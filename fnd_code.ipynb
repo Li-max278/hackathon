{
 "cells": [
  {
   "cell_type": "code",
   "execution_count": null,
   "metadata": {
    "colab": {
     "base_uri": "https://localhost:8080/"
    },
    "id": "lPGjtmPe2R8G",
    "outputId": "34231095-0217-446a-c0ba-944b7c83f81a"
   },
   "outputs": [
    {
     "name": "stdout",
     "output_type": "stream",
     "text": [
      "Model Accuracy: 50.00%\n",
      "Prediction for REAL test news: This news is REAL.\n",
      "Prediction for FAKE test news: This news is FAKE.\n"
     ]
    }
   ],
   "source": [
    "import pandas as pd\n",
    "from sklearn.model_selection import train_test_split\n",
    "from sklearn.feature_extraction.text import TfidfVectorizer\n",
    "from sklearn.linear_model import LogisticRegression\n",
    "from sklearn.metrics import accuracy_score\n",
    "import pickle\n",
    "data = {\n",
    "    'Title': ['Biden Wins the 2024 Election', 'Aliens Land in New York City',\n",
    "              'Stocks Hit Record Highs This Year', 'World\\'s Largest Pyramid Found in Africa',\n",
    "              'COVID-19 Vaccine Saves Millions', 'The Earth is Flat: New Evidence'],\n",
    "    'Text': ['In a stunning victory, Joe Biden has won the 2024 election, defeating his opponent...',\n",
    "             'Reports have confirmed that extraterrestrials have landed in NYC and met with officials...',\n",
    "             'The stock market continues its upward trend this year, breaking all-time highs...',\n",
    "             'Archaeologists have discovered a massive pyramid structure in the heart of Africa...',\n",
    "             'Recent studies show that the COVID-19 vaccine has helped save millions of lives worldwide...',\n",
    "             'Scientists have uncovered new data suggesting the Earth is flat, which challenges long-standing beliefs...'],\n",
    "    'Label': ['REAL', 'FAKE', 'REAL', 'FAKE', 'REAL', 'FAKE']\n",
    "}\n",
    "df = pd.DataFrame(data)\n",
    "X = df['Text']\n",
    "y = df['Label']\n",
    "X_train, X_test, y_train, y_test = train_test_split(X, y, test_size=0.3, random_state=42)\n",
    "vectorizer = TfidfVectorizer(stop_words='english')\n",
    "X_train_tfidf = vectorizer.fit_transform(X_train)\n",
    "X_test_tfidf = vectorizer.transform(X_test)\n",
    "model = LogisticRegression()\n",
    "model.fit(X_train_tfidf, y_train)\n",
    "y_pred = model.predict(X_test_tfidf)\n",
    "accuracy = accuracy_score(y_test, y_pred)\n",
    "print(f'Model Accuracy: {accuracy * 100:.2f}%')\n",
    "with open('news_model.pkl', 'wb') as model_file:\n",
    "    pickle.dump(model, model_file)\n",
    "with open('vectorizer.pkl', 'wb') as vec_file:\n",
    "    pickle.dump(vectorizer, vec_file)\n",
    "def is_real(news_text):\n",
    "    news_tfidf = vectorizer.transform([news_text])  # Transform the news text into TF-IDF\n",
    "    prediction = model.predict(news_tfidf)\n",
    "    return prediction[0] == 'REAL'\n",
    "def is_fake(news_text):\n",
    "    news_tfidf = vectorizer.transform([news_text])  # Transform the news text into TF-IDF\n",
    "    prediction = model.predict(news_tfidf)\n",
    "    return prediction[0] == 'FAKE'\n",
    "test_news_real = \"Breaking news: The stock market hits an all-time high.\"\n",
    "test_news_fake = \"Breaking news: Scientists prove that the Earth is flat.\n",
    "if is_real(test_news_real):\n",
    "    print(f\"Prediction for REAL test news: This news is REAL.\")\n",
    "else:\n",
    "    print(f\"Prediction for REAL test news: This news is FAKE.\")\n",
    "if is_fake(test_news_fake):\n",
    "    print(f\"Prediction for FAKE test news: This news is FAKE.\")\n",
    "else:\n",
    "    print(f\"Prediction for FAKE test news: This news is REAL.\")\n"
   ]
  }
 ],
 "metadata": {
  "colab": {
   "provenance": []
  },
  "kernelspec": {
   "display_name": "Python 3",
   "name": "python3"
  },
  "language_info": {
   "name": "python"
  }
 },
 "nbformat": 4,
 "nbformat_minor": 0
}
